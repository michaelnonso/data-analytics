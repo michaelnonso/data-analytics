{
  "nbformat": 4,
  "nbformat_minor": 0,
  "metadata": {
    "colab": {
      "provenance": [],
      "authorship_tag": "ABX9TyPDZcln3dI7plSLEep1zGsc",
      "include_colab_link": true
    },
    "kernelspec": {
      "name": "python3",
      "display_name": "Python 3"
    },
    "language_info": {
      "name": "python"
    }
  },
  "cells": [
    {
      "cell_type": "markdown",
      "metadata": {
        "id": "view-in-github",
        "colab_type": "text"
      },
      "source": [
        "<a href=\"https://colab.research.google.com/github/michaelnonso/data-analytics/blob/main/Webscrapping_pair_price_from_yahoo_.ipynb\" target=\"_parent\"><img src=\"https://colab.research.google.com/assets/colab-badge.svg\" alt=\"Open In Colab\"/></a>"
      ]
    },
    {
      "cell_type": "code",
      "execution_count": 2,
      "metadata": {
        "id": "Q98DdJOhMvNU",
        "colab": {
          "base_uri": "https://localhost:8080/"
        },
        "outputId": "f6a25d7e-0d78-4634-901e-15570154a49b"
      },
      "outputs": [
        {
          "output_type": "stream",
          "name": "stdout",
          "text": [
            "<Response [200]>\n",
            "[<td class=\"Ta(end) Fw(600) Lh(14px)\" data-test=\"PREV_CLOSE-value\">1.0946</td>, <td class=\"Ta(end) Fw(600) Lh(14px)\" data-test=\"OPEN-value\">1.0946</td>, <td class=\"Ta(end) Fw(600) Lh(14px)\" data-test=\"BID-value\">1.0945</td>, <td class=\"Ta(end) Fw(600) Lh(14px)\" data-test=\"DAYS_RANGE-value\">1.0942 - 1.0969</td>, <td class=\"Ta(end) Fw(600) Lh(14px)\" data-test=\"FIFTY_TWO_WK_RANGE-value\">1.0243 - 1.1276</td>, <td class=\"Ta(end) Fw(600) Lh(14px)\" data-test=\"ASK-value\">1.0939</td>]\n",
            "Bid price: 1.0945\n",
            "Ask price: 1.0939\n"
          ]
        }
      ],
      "source": [
        "import requests\n",
        "from bs4 import BeautifulSoup\n",
        "import time\n",
        "import csv\n",
        "\n",
        "# Set the time to 12 pm\n",
        "# run_time = time.strptime(\"12:00:00\", \"%H:%M:%S\")\n",
        "\n",
        "# Create a CSV file to store the bid and ask prices\n",
        "with open(\"eurusd_prices.csv\", \"w\", newline=\"\") as csvfile:\n",
        "    writer = csv.writer(csvfile)\n",
        "    writer.writerow([\"Timestamp\", \"Bid price\", \"Ask price\"])\n",
        "\n",
        "#while True:\n",
        "# Get the current time\n",
        "current_time = time.localtime()\n",
        "\n",
        "# If the current time is equal to the run time, extract the bid and ask price and append it to the CSV file\n",
        "# if current_time == run_time:\n",
        "# Get the HTML content of the Yahoo Finance page for EUR/USD\n",
        "response = requests.get(\"https://finance.yahoo.com/quote/EURUSD=X\")\n",
        "print(response)\n",
        "\n",
        "# Parse the HTML content using BeautifulSoup\n",
        "soup = BeautifulSoup(response.content, \"html.parser\")\n",
        "\n",
        "# Extract the bid and ask prices\n",
        "prices =soup.find_all(\"td\", class_=\"Ta(end) Fw(600) Lh(14px)\")\n",
        "print(prices)\n",
        "bid_price=prices[2].contents\n",
        "ask_price=prices[-1].contents\n",
        "\n",
        "bid_price=float(bid_price[0])\n",
        "ask_price=float(ask_price[0])\n",
        "\n",
        "# Print the bid and ask prices\n",
        "print(\"Bid price:\", bid_price)\n",
        "print(\"Ask price:\", ask_price)\n",
        "\n",
        "# Append the bid and ask prices to the CSV file\n",
        "with open(\"eurusd_prices.csv\", \"a\", newline=\"\") as csvfile:\n",
        "    writer = csv.writer(csvfile)\n",
        "    writer.writerow([time.strftime(\"%Y-%m-%d %H:%M:%S\", current_time), bid_price, ask_price])\n",
        "\n",
        "        # Wait for 12 hours before extracting the bid and ask price again\n",
        "        #time.sleep( 60)\n"
      ]
    },
    {
      "cell_type": "code",
      "source": [
        "print(\"Currency: EURUSD \\n ASK Price:{}\\n BID price:{}\".format(ask_price,bid_price))"
      ],
      "metadata": {
        "colab": {
          "base_uri": "https://localhost:8080/"
        },
        "id": "XrsCTV4ENKFh",
        "outputId": "45b0478d-f0bf-4f09-cec4-02b5753d2d7e"
      },
      "execution_count": 4,
      "outputs": [
        {
          "output_type": "stream",
          "name": "stdout",
          "text": [
            "Currency: EURUSD \n",
            " ASK Price:1.0939\n",
            " BID price:1.0945\n"
          ]
        }
      ]
    }
  ]
}