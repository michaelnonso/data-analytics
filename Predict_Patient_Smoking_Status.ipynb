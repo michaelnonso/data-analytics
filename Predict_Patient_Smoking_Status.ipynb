{
  "nbformat": 4,
  "nbformat_minor": 0,
  "metadata": {
    "colab": {
      "provenance": [],
      "authorship_tag": "ABX9TyO/GJHAD+b6UV0hvWPtIicf",
      "include_colab_link": true
    },
    "kernelspec": {
      "name": "python3",
      "display_name": "Python 3"
    },
    "language_info": {
      "name": "python"
    }
  },
  "cells": [
    {
      "cell_type": "markdown",
      "metadata": {
        "id": "view-in-github",
        "colab_type": "text"
      },
      "source": [
        "<a href=\"https://colab.research.google.com/github/michaelnonso/data-analytics/blob/main/Predict_Patient_Smoking_Status.ipynb\" target=\"_parent\"><img src=\"https://colab.research.google.com/assets/colab-badge.svg\" alt=\"Open In Colab\"/></a>"
      ]
    },
    {
      "cell_type": "markdown",
      "source": [
        "OBJECTIVE\n",
        "\n",
        "- To use binary classification to predict a patient's smoking status given information about various other health indicators."
      ],
      "metadata": {
        "id": "wkN25Rfdvqmd"
      }
    },
    {
      "cell_type": "markdown",
      "source": [
        "Import Pakages"
      ],
      "metadata": {
        "id": "3rKVuDawv1sC"
      }
    },
    {
      "cell_type": "code",
      "execution_count": null,
      "metadata": {
        "id": "kStFDLXTzU_s"
      },
      "outputs": [],
      "source": [
        "\n",
        "import numpy as np\n",
        "import matplotlib.pyplot as plt\n",
        "import pandas as pd\n",
        "import tensorflow as tf\n"
      ]
    },
    {
      "cell_type": "markdown",
      "source": [
        "Reading Test and Train Data/ Data Wrangling"
      ],
      "metadata": {
        "id": "By8MVbmtwAmK"
      }
    },
    {
      "cell_type": "code",
      "source": [
        "dataset_train = pd.read_csv('/content/drive/MyDrive/keggle-competition/train.csv')\n",
        "dataset_test = pd.read_csv('/content/drive/MyDrive/keggle-competition/test.csv')\n"
      ],
      "metadata": {
        "id": "8ef3FgmnzgE8"
      },
      "execution_count": null,
      "outputs": []
    },
    {
      "cell_type": "code",
      "source": [
        "X_predict = dataset_test.iloc[:, 1:].values\n"
      ],
      "metadata": {
        "id": "IkWn6G5B15vf"
      },
      "execution_count": null,
      "outputs": []
    },
    {
      "cell_type": "code",
      "source": [
        "X = dataset_train.iloc[:, 1:-1].values\n",
        "y_train = dataset_train.iloc[:, :-1].values"
      ],
      "metadata": {
        "id": "sDiqWkQT4QJk"
      },
      "execution_count": null,
      "outputs": []
    },
    {
      "cell_type": "code",
      "source": [
        "# Splitting the dataset into the Training set and Test set\n",
        "from sklearn.model_selection import train_test_split\n",
        "X_train, X_test, y_train, y_test = train_test_split(X, y, test_size = 0.2, random_state = 0)"
      ],
      "metadata": {
        "id": "d6r8udkR8e1t"
      },
      "execution_count": null,
      "outputs": []
    },
    {
      "cell_type": "code",
      "source": [
        "from sklearn.preprocessing import StandardScaler\n",
        "sc = StandardScaler()\n",
        "X_train = sc.fit_transform(X_train)\n",
        "X_test = sc.transform(X_test)"
      ],
      "metadata": {
        "id": "Du0BCP7u4mXU"
      },
      "execution_count": null,
      "outputs": []
    },
    {
      "cell_type": "markdown",
      "source": [
        "Building Elastic NET"
      ],
      "metadata": {
        "id": "bwDVOyicCKrD"
      }
    },
    {
      "cell_type": "code",
      "source": [
        "from sklearn.linear_model import ElasticNet\n",
        "# Create an ElasticNet object with l1_ratio=0.5\n",
        "model = ElasticNet(l1_ratio=0.3)\n",
        "\n",
        "# Fit the model to the training data\n",
        "model.fit(X_train, y_train)\n",
        "\n",
        "# Make predictions on the test data\n",
        "y_pred = model.predict(X_test)\n",
        "y_pred = (y_pred > 0.5)\n",
        "print(np.concatenate((y_pred.reshape(len(y_pred),1), y_test.reshape(len(y_test),1)),1))"
      ],
      "metadata": {
        "colab": {
          "base_uri": "https://localhost:8080/"
        },
        "id": "lNp32IeGA-we",
        "outputId": "a6c4a95c-eeab-46d5-82fc-8ad16bc37f66"
      },
      "execution_count": null,
      "outputs": [
        {
          "output_type": "stream",
          "name": "stdout",
          "text": [
            "[[0 0]\n",
            " [0 0]\n",
            " [0 1]\n",
            " ...\n",
            " [0 0]\n",
            " [0 1]\n",
            " [0 1]]\n"
          ]
        }
      ]
    },
    {
      "cell_type": "markdown",
      "source": [
        "LOGISTIC REGRESSION"
      ],
      "metadata": {
        "id": "MekfV7XSCTVu"
      }
    },
    {
      "cell_type": "code",
      "source": [
        "from sklearn.linear_model import LogisticRegression\n",
        "classifier = LogisticRegression(random_state = 0)\n",
        "classifier.fit(X_train, y_train)\n",
        "y_pred = classifier.predict(X_test)"
      ],
      "metadata": {
        "id": "jWAHMvrj8yRb"
      },
      "execution_count": null,
      "outputs": []
    },
    {
      "cell_type": "markdown",
      "source": [
        "ANN"
      ],
      "metadata": {
        "id": "LT7MmQOVuaG9"
      }
    },
    {
      "cell_type": "code",
      "source": [
        "# Part 2 - Building the ANN\n",
        "\n",
        "# Initializing the ANN\n",
        "ann = tf.keras.models.Sequential()\n",
        "\n",
        "# Adding the input layer and the first hidden layer\n",
        "ann.add(tf.keras.layers.Dense(units=6, activation='relu'))\n",
        "\n",
        "# Adding the second hidden layer\n",
        "ann.add(tf.keras.layers.Dense(units=6, activation='relu'))\n",
        "\n",
        "# Adding the output layer\n",
        "ann.add(tf.keras.layers.Dense(units=1, activation='sigmoid'))\n",
        "\n",
        "# Part 3 - Training the ANN\n",
        "\n",
        "# Compiling the ANN\n",
        "ann.compile(optimizer = 'adam', loss = 'binary_crossentropy', metrics = ['accuracy'])\n",
        "\n",
        "# Training the ANN on the Training set\n",
        "ann.fit(X_train, y_train, batch_size = 32, epochs = 100)"
      ],
      "metadata": {
        "colab": {
          "base_uri": "https://localhost:8080/"
        },
        "id": "j9iWrnLBDqdE",
        "outputId": "2f508d05-1219-4481-cfa1-612785eb04ff"
      },
      "execution_count": null,
      "outputs": [
        {
          "output_type": "stream",
          "name": "stdout",
          "text": [
            "Epoch 1/100\n",
            "3982/3982 [==============================] - 14s 3ms/step - loss: 0.4915 - accuracy: 0.7459\n",
            "Epoch 2/100\n",
            "3982/3982 [==============================] - 8s 2ms/step - loss: 0.4663 - accuracy: 0.7653\n",
            "Epoch 3/100\n",
            "3982/3982 [==============================] - 9s 2ms/step - loss: 0.4623 - accuracy: 0.7682\n",
            "Epoch 4/100\n",
            "3982/3982 [==============================] - 8s 2ms/step - loss: 0.4603 - accuracy: 0.7697\n",
            "Epoch 5/100\n",
            "3982/3982 [==============================] - 9s 2ms/step - loss: 0.4592 - accuracy: 0.7707\n",
            "Epoch 6/100\n",
            "3982/3982 [==============================] - 8s 2ms/step - loss: 0.4585 - accuracy: 0.7704\n",
            "Epoch 7/100\n",
            "3982/3982 [==============================] - 9s 2ms/step - loss: 0.4581 - accuracy: 0.7712\n",
            "Epoch 8/100\n",
            "3982/3982 [==============================] - 7s 2ms/step - loss: 0.4578 - accuracy: 0.7712\n",
            "Epoch 9/100\n",
            "3982/3982 [==============================] - 10s 2ms/step - loss: 0.4577 - accuracy: 0.7713\n",
            "Epoch 10/100\n",
            "3982/3982 [==============================] - 7s 2ms/step - loss: 0.4575 - accuracy: 0.7716\n",
            "Epoch 11/100\n",
            "3982/3982 [==============================] - 10s 2ms/step - loss: 0.4574 - accuracy: 0.7717\n",
            "Epoch 12/100\n",
            "3982/3982 [==============================] - 7s 2ms/step - loss: 0.4573 - accuracy: 0.7715\n",
            "Epoch 13/100\n",
            "3982/3982 [==============================] - 10s 3ms/step - loss: 0.4572 - accuracy: 0.7709\n",
            "Epoch 14/100\n",
            "3982/3982 [==============================] - 7s 2ms/step - loss: 0.4571 - accuracy: 0.7712\n",
            "Epoch 15/100\n",
            "3982/3982 [==============================] - 11s 3ms/step - loss: 0.4572 - accuracy: 0.7710\n",
            "Epoch 16/100\n",
            "3982/3982 [==============================] - 8s 2ms/step - loss: 0.4572 - accuracy: 0.7720\n",
            "Epoch 17/100\n",
            "3982/3982 [==============================] - 10s 2ms/step - loss: 0.4570 - accuracy: 0.7717\n",
            "Epoch 18/100\n",
            "3982/3982 [==============================] - 8s 2ms/step - loss: 0.4571 - accuracy: 0.7712\n",
            "Epoch 19/100\n",
            "3982/3982 [==============================] - 10s 2ms/step - loss: 0.4569 - accuracy: 0.7711\n",
            "Epoch 20/100\n",
            "3982/3982 [==============================] - 7s 2ms/step - loss: 0.4568 - accuracy: 0.7716\n",
            "Epoch 21/100\n",
            "3982/3982 [==============================] - 10s 2ms/step - loss: 0.4568 - accuracy: 0.7715\n",
            "Epoch 22/100\n",
            "3982/3982 [==============================] - 8s 2ms/step - loss: 0.4567 - accuracy: 0.7716\n",
            "Epoch 23/100\n",
            "3982/3982 [==============================] - 10s 3ms/step - loss: 0.4569 - accuracy: 0.7722\n",
            "Epoch 24/100\n",
            "3982/3982 [==============================] - 8s 2ms/step - loss: 0.4568 - accuracy: 0.7718\n",
            "Epoch 25/100\n",
            "3982/3982 [==============================] - 10s 2ms/step - loss: 0.4566 - accuracy: 0.7716\n",
            "Epoch 26/100\n",
            "3982/3982 [==============================] - 7s 2ms/step - loss: 0.4566 - accuracy: 0.7721\n",
            "Epoch 27/100\n",
            "3982/3982 [==============================] - 9s 2ms/step - loss: 0.4565 - accuracy: 0.7713\n",
            "Epoch 28/100\n",
            "3982/3982 [==============================] - 8s 2ms/step - loss: 0.4566 - accuracy: 0.7714\n",
            "Epoch 29/100\n",
            "3982/3982 [==============================] - 9s 2ms/step - loss: 0.4566 - accuracy: 0.7720\n",
            "Epoch 30/100\n",
            "3982/3982 [==============================] - 8s 2ms/step - loss: 0.4566 - accuracy: 0.7712\n",
            "Epoch 31/100\n",
            "3982/3982 [==============================] - 9s 2ms/step - loss: 0.4564 - accuracy: 0.7715\n",
            "Epoch 32/100\n",
            "3982/3982 [==============================] - 8s 2ms/step - loss: 0.4563 - accuracy: 0.7719\n",
            "Epoch 33/100\n",
            "3982/3982 [==============================] - 9s 2ms/step - loss: 0.4563 - accuracy: 0.7714\n",
            "Epoch 34/100\n",
            "3982/3982 [==============================] - 8s 2ms/step - loss: 0.4561 - accuracy: 0.7724\n",
            "Epoch 35/100\n",
            "3982/3982 [==============================] - 8s 2ms/step - loss: 0.4560 - accuracy: 0.7722\n",
            "Epoch 36/100\n",
            "3982/3982 [==============================] - 9s 2ms/step - loss: 0.4560 - accuracy: 0.7726\n",
            "Epoch 37/100\n",
            "3982/3982 [==============================] - 9s 2ms/step - loss: 0.4560 - accuracy: 0.7719\n",
            "Epoch 38/100\n",
            "3982/3982 [==============================] - 9s 2ms/step - loss: 0.4558 - accuracy: 0.7726\n",
            "Epoch 39/100\n",
            "3982/3982 [==============================] - 10s 2ms/step - loss: 0.4556 - accuracy: 0.7721\n",
            "Epoch 40/100\n",
            "3982/3982 [==============================] - 11s 3ms/step - loss: 0.4558 - accuracy: 0.7726\n",
            "Epoch 41/100\n",
            "3982/3982 [==============================] - 11s 3ms/step - loss: 0.4557 - accuracy: 0.7722\n",
            "Epoch 42/100\n",
            "3982/3982 [==============================] - 8s 2ms/step - loss: 0.4558 - accuracy: 0.7731\n",
            "Epoch 43/100\n",
            "3982/3982 [==============================] - 8s 2ms/step - loss: 0.4555 - accuracy: 0.7728\n",
            "Epoch 44/100\n",
            "3982/3982 [==============================] - 9s 2ms/step - loss: 0.4558 - accuracy: 0.7724\n",
            "Epoch 45/100\n",
            "3982/3982 [==============================] - 8s 2ms/step - loss: 0.4556 - accuracy: 0.7727\n",
            "Epoch 46/100\n",
            "3982/3982 [==============================] - 9s 2ms/step - loss: 0.4555 - accuracy: 0.7726\n",
            "Epoch 47/100\n",
            "3982/3982 [==============================] - 7s 2ms/step - loss: 0.4555 - accuracy: 0.7730\n",
            "Epoch 48/100\n",
            "3982/3982 [==============================] - 10s 2ms/step - loss: 0.4556 - accuracy: 0.7727\n",
            "Epoch 49/100\n",
            "3982/3982 [==============================] - 7s 2ms/step - loss: 0.4554 - accuracy: 0.7730\n",
            "Epoch 50/100\n",
            "3982/3982 [==============================] - 10s 2ms/step - loss: 0.4556 - accuracy: 0.7728\n",
            "Epoch 51/100\n",
            "3982/3982 [==============================] - 8s 2ms/step - loss: 0.4554 - accuracy: 0.7729\n",
            "Epoch 52/100\n",
            "3982/3982 [==============================] - 11s 3ms/step - loss: 0.4556 - accuracy: 0.7723\n",
            "Epoch 53/100\n",
            "3982/3982 [==============================] - 8s 2ms/step - loss: 0.4553 - accuracy: 0.7731\n",
            "Epoch 54/100\n",
            "3982/3982 [==============================] - 10s 3ms/step - loss: 0.4554 - accuracy: 0.7723\n",
            "Epoch 55/100\n",
            "3982/3982 [==============================] - 8s 2ms/step - loss: 0.4554 - accuracy: 0.7730\n",
            "Epoch 56/100\n",
            "3982/3982 [==============================] - 9s 2ms/step - loss: 0.4555 - accuracy: 0.7728\n",
            "Epoch 57/100\n",
            "3982/3982 [==============================] - 7s 2ms/step - loss: 0.4555 - accuracy: 0.7728\n",
            "Epoch 58/100\n",
            "3982/3982 [==============================] - 10s 2ms/step - loss: 0.4554 - accuracy: 0.7726\n",
            "Epoch 59/100\n",
            "3982/3982 [==============================] - 7s 2ms/step - loss: 0.4554 - accuracy: 0.7727\n",
            "Epoch 60/100\n",
            "3982/3982 [==============================] - 10s 2ms/step - loss: 0.4555 - accuracy: 0.7732\n",
            "Epoch 61/100\n",
            "3982/3982 [==============================] - 7s 2ms/step - loss: 0.4553 - accuracy: 0.7728\n",
            "Epoch 62/100\n",
            "3982/3982 [==============================] - 10s 2ms/step - loss: 0.4553 - accuracy: 0.7724\n",
            "Epoch 63/100\n",
            "3982/3982 [==============================] - 8s 2ms/step - loss: 0.4554 - accuracy: 0.7729\n",
            "Epoch 64/100\n",
            "3982/3982 [==============================] - 10s 3ms/step - loss: 0.4552 - accuracy: 0.7725\n",
            "Epoch 65/100\n",
            "3982/3982 [==============================] - 9s 2ms/step - loss: 0.4554 - accuracy: 0.7729\n",
            "Epoch 66/100\n",
            "3982/3982 [==============================] - 11s 3ms/step - loss: 0.4552 - accuracy: 0.7731\n",
            "Epoch 67/100\n",
            "3982/3982 [==============================] - 8s 2ms/step - loss: 0.4553 - accuracy: 0.7730\n",
            "Epoch 68/100\n",
            "3982/3982 [==============================] - 10s 2ms/step - loss: 0.4552 - accuracy: 0.7729\n",
            "Epoch 69/100\n",
            "3982/3982 [==============================] - 7s 2ms/step - loss: 0.4553 - accuracy: 0.7733\n",
            "Epoch 70/100\n",
            "3982/3982 [==============================] - 9s 2ms/step - loss: 0.4553 - accuracy: 0.7726\n",
            "Epoch 71/100\n",
            "3982/3982 [==============================] - 7s 2ms/step - loss: 0.4552 - accuracy: 0.7727\n",
            "Epoch 72/100\n",
            "3982/3982 [==============================] - 10s 2ms/step - loss: 0.4552 - accuracy: 0.7730\n",
            "Epoch 73/100\n",
            "3982/3982 [==============================] - 7s 2ms/step - loss: 0.4553 - accuracy: 0.7729\n",
            "Epoch 74/100\n",
            "3982/3982 [==============================] - 10s 2ms/step - loss: 0.4552 - accuracy: 0.7732\n",
            "Epoch 75/100\n",
            "3982/3982 [==============================] - 7s 2ms/step - loss: 0.4552 - accuracy: 0.7729\n",
            "Epoch 76/100\n",
            "3982/3982 [==============================] - 9s 2ms/step - loss: 0.4551 - accuracy: 0.7730\n",
            "Epoch 77/100\n",
            "3982/3982 [==============================] - 8s 2ms/step - loss: 0.4551 - accuracy: 0.7732\n",
            "Epoch 78/100\n",
            "3982/3982 [==============================] - 9s 2ms/step - loss: 0.4551 - accuracy: 0.7725\n",
            "Epoch 79/100\n",
            "3982/3982 [==============================] - 9s 2ms/step - loss: 0.4552 - accuracy: 0.7728\n",
            "Epoch 80/100\n",
            "3982/3982 [==============================] - 10s 2ms/step - loss: 0.4552 - accuracy: 0.7737\n",
            "Epoch 81/100\n",
            "3982/3982 [==============================] - 9s 2ms/step - loss: 0.4551 - accuracy: 0.7728\n",
            "Epoch 82/100\n",
            "3982/3982 [==============================] - 10s 2ms/step - loss: 0.4551 - accuracy: 0.7730\n",
            "Epoch 83/100\n",
            "3982/3982 [==============================] - 8s 2ms/step - loss: 0.4550 - accuracy: 0.7726\n",
            "Epoch 84/100\n",
            "3982/3982 [==============================] - 8s 2ms/step - loss: 0.4551 - accuracy: 0.7728\n",
            "Epoch 85/100\n",
            "3982/3982 [==============================] - 8s 2ms/step - loss: 0.4551 - accuracy: 0.7726\n",
            "Epoch 86/100\n",
            "3982/3982 [==============================] - 8s 2ms/step - loss: 0.4551 - accuracy: 0.7727\n",
            "Epoch 87/100\n",
            "3982/3982 [==============================] - 9s 2ms/step - loss: 0.4549 - accuracy: 0.7735\n",
            "Epoch 88/100\n",
            "3982/3982 [==============================] - 8s 2ms/step - loss: 0.4551 - accuracy: 0.7730\n",
            "Epoch 89/100\n",
            "3982/3982 [==============================] - 9s 2ms/step - loss: 0.4550 - accuracy: 0.7726\n",
            "Epoch 90/100\n",
            "3982/3982 [==============================] - 7s 2ms/step - loss: 0.4549 - accuracy: 0.7728\n",
            "Epoch 91/100\n",
            "3982/3982 [==============================] - 9s 2ms/step - loss: 0.4550 - accuracy: 0.7726\n",
            "Epoch 92/100\n",
            "3982/3982 [==============================] - 9s 2ms/step - loss: 0.4549 - accuracy: 0.7728\n",
            "Epoch 93/100\n",
            "3982/3982 [==============================] - 12s 3ms/step - loss: 0.4549 - accuracy: 0.7728\n",
            "Epoch 94/100\n",
            "3982/3982 [==============================] - 10s 2ms/step - loss: 0.4549 - accuracy: 0.7726\n",
            "Epoch 95/100\n",
            "3982/3982 [==============================] - 11s 3ms/step - loss: 0.4550 - accuracy: 0.7730\n",
            "Epoch 96/100\n",
            "3982/3982 [==============================] - 9s 2ms/step - loss: 0.4550 - accuracy: 0.7732\n",
            "Epoch 97/100\n",
            "3982/3982 [==============================] - 10s 3ms/step - loss: 0.4549 - accuracy: 0.7727\n",
            "Epoch 98/100\n",
            "3982/3982 [==============================] - 8s 2ms/step - loss: 0.4550 - accuracy: 0.7730\n",
            "Epoch 99/100\n",
            "3982/3982 [==============================] - 10s 2ms/step - loss: 0.4549 - accuracy: 0.7725\n",
            "Epoch 100/100\n",
            "3982/3982 [==============================] - 7s 2ms/step - loss: 0.4549 - accuracy: 0.7729\n"
          ]
        },
        {
          "output_type": "execute_result",
          "data": {
            "text/plain": [
              "<keras.src.callbacks.History at 0x7f518777f8b0>"
            ]
          },
          "metadata": {},
          "execution_count": 33
        }
      ]
    },
    {
      "cell_type": "markdown",
      "source": [
        "Predicting The Test Set Results"
      ],
      "metadata": {
        "id": "lgSODFyRwoDB"
      }
    },
    {
      "cell_type": "code",
      "source": [
        "# Predicting the Test set results\n",
        "y_pred = ann.predict(X_test)\n",
        "y_pred = (y_pred > 0.5)\n",
        "print(np.concatenate((y_pred.reshape(len(y_pred),1), y_test.reshape(len(y_test),1)),1))"
      ],
      "metadata": {
        "colab": {
          "base_uri": "https://localhost:8080/"
        },
        "id": "H0_2nIyVHr5a",
        "outputId": "5b397070-54f4-4eb6-d0f1-9c6d098e478e"
      },
      "execution_count": null,
      "outputs": [
        {
          "output_type": "stream",
          "name": "stdout",
          "text": [
            "996/996 [==============================] - 2s 2ms/step\n",
            "[[0 0]\n",
            " [1 0]\n",
            " [1 1]\n",
            " ...\n",
            " [0 0]\n",
            " [0 1]\n",
            " [0 1]]\n"
          ]
        }
      ]
    },
    {
      "cell_type": "markdown",
      "source": [
        "CONCATENATING PREDICTED AND REAL TEST RESULT"
      ],
      "metadata": {
        "id": "k_xpYZzlCdx4"
      }
    },
    {
      "cell_type": "code",
      "source": [
        "\n",
        "print(np.concatenate((y_pred.reshape(len(y_pred),1), y_test.reshape(len(y_test),1)),1))"
      ],
      "metadata": {
        "colab": {
          "base_uri": "https://localhost:8080/"
        },
        "id": "5FvH3Ww-9E0x",
        "outputId": "2f7095ba-fd6d-4d41-c926-c3a2613061dd"
      },
      "execution_count": null,
      "outputs": [
        {
          "output_type": "stream",
          "name": "stdout",
          "text": [
            "[[0 0]\n",
            " [1 0]\n",
            " [1 1]\n",
            " ...\n",
            " [0 0]\n",
            " [0 1]\n",
            " [0 1]]\n"
          ]
        }
      ]
    },
    {
      "cell_type": "markdown",
      "source": [
        "CONFUSION MATRIX"
      ],
      "metadata": {
        "id": "7PK82LiWCmMY"
      }
    },
    {
      "cell_type": "code",
      "source": [
        "from sklearn.metrics import confusion_matrix, accuracy_score\n",
        "cm = confusion_matrix(y_test, y_pred)\n",
        "print(cm)\n",
        "accuracy_score(y_test, y_pred)"
      ],
      "metadata": {
        "colab": {
          "base_uri": "https://localhost:8080/"
        },
        "id": "LjvDDkSW9i28",
        "outputId": "d02c30f7-73eb-4293-a6c6-a3a7a8b246dc"
      },
      "execution_count": null,
      "outputs": [
        {
          "output_type": "stream",
          "name": "stdout",
          "text": [
            "[[13435  4247]\n",
            " [ 3774 10396]]\n"
          ]
        },
        {
          "output_type": "execute_result",
          "data": {
            "text/plain": [
              "0.7481790782368454"
            ]
          },
          "metadata": {},
          "execution_count": 47
        }
      ]
    },
    {
      "cell_type": "markdown",
      "source": [
        "FINAL PREDICTION"
      ],
      "metadata": {
        "id": "rccsnr-Q-AlT"
      }
    },
    {
      "cell_type": "code",
      "source": [
        "y_predicted = classifier.predict(X_predict)\n",
        "print(y_predicted.reshape(len(y_predicted),1))"
      ],
      "metadata": {
        "colab": {
          "base_uri": "https://localhost:8080/"
        },
        "id": "MYXp8xAB-EQt",
        "outputId": "9810d40c-89ef-4a25-8dd1-41ab9ba842f8"
      },
      "execution_count": null,
      "outputs": [
        {
          "output_type": "stream",
          "name": "stdout",
          "text": [
            "[[1]\n",
            " [1]\n",
            " [1]\n",
            " ...\n",
            " [1]\n",
            " [1]\n",
            " [1]]\n"
          ]
        }
      ]
    }
  ]
}